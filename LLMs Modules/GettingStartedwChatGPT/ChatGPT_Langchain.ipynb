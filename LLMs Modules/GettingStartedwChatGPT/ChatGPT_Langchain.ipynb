{
 "cells": [
  {
   "cell_type": "code",
   "id": "initial_id",
   "metadata": {
    "collapsed": true,
    "ExecuteTime": {
     "end_time": "2025-06-19T20:32:28.632696Z",
     "start_time": "2025-06-19T20:32:28.626852Z"
    }
   },
   "source": [
    "from openai import OpenAI\n",
    "import config"
   ],
   "outputs": [],
   "execution_count": 109
  },
  {
   "metadata": {
    "ExecuteTime": {
     "end_time": "2025-06-19T20:32:28.666740Z",
     "start_time": "2025-06-19T20:32:28.658110Z"
    }
   },
   "cell_type": "code",
   "source": "api_key = config.api_key",
   "id": "144a0b7f87f4be8",
   "outputs": [],
   "execution_count": 110
  },
  {
   "metadata": {
    "ExecuteTime": {
     "end_time": "2025-06-19T20:32:30.396489Z",
     "start_time": "2025-06-19T20:32:28.699219Z"
    }
   },
   "cell_type": "code",
   "source": "client = OpenAI(api_key = api_key)",
   "id": "af1e3735e4ea6295",
   "outputs": [],
   "execution_count": 111
  },
  {
   "metadata": {
    "ExecuteTime": {
     "end_time": "2025-06-19T20:32:30.442043Z",
     "start_time": "2025-06-19T20:32:30.433016Z"
    }
   },
   "cell_type": "code",
   "source": "# Generating Text",
   "id": "256241b62d38c90f",
   "outputs": [],
   "execution_count": 112
  },
  {
   "metadata": {
    "ExecuteTime": {
     "end_time": "2025-06-19T20:32:30.484407Z",
     "start_time": "2025-06-19T20:32:30.471858Z"
    }
   },
   "cell_type": "code",
   "source": [
    "def generate_text(prompt):\n",
    "    response = client.chat.completions.create(\n",
    "        model=\"gpt-4o-mini\",\n",
    "        store=True,\n",
    "        messages=[{\"role\": \"user\", \"content\": prompt}],\n",
    "    )\n",
    "    return response.choices[0].message"
   ],
   "id": "62660a88e8c704a2",
   "outputs": [],
   "execution_count": 113
  },
  {
   "metadata": {
    "ExecuteTime": {
     "end_time": "2025-06-19T20:32:33.705094Z",
     "start_time": "2025-06-19T20:32:30.519622Z"
    }
   },
   "cell_type": "code",
   "source": "print(generate_text(\"Give me Top 3 facts about Singapore?\").content)",
   "id": "9665831b5f8ac014",
   "outputs": [
    {
     "name": "stdout",
     "output_type": "stream",
     "text": [
      "Sure! Here are three interesting facts about Singapore:\n",
      "\n",
      "1. **City-State Status**: Singapore is one of the few city-states in the world, meaning the entire country is essentially a single city with a total land area of about 728 square kilometers (281 square miles). It has a highly urbanized environment, with over 5.5 million residents living in this compact area.\n",
      "\n",
      "2. **Multicultural Society**: Singapore is known for its diverse and multicultural population, consisting primarily of Chinese, Malay, Indian, and Eurasian communities. This diversity is reflected in the country’s official languages: English, Mandarin, Malay, and Tamil, and is celebrated through various cultural festivals, food, and traditions.\n",
      "\n",
      "3. **Global Financial Hub**: Singapore is one of the world’s leading financial centers, known for its robust economy and investor-friendly environment. It ranks high in global indices for ease of doing business and attracts foreign investments due to its strategic location, advanced infrastructure, and strong regulatory framework. The country has a highly developed banking system and is a major hub for wealth management and international trade.\n"
     ]
    }
   ],
   "execution_count": 114
  },
  {
   "metadata": {
    "ExecuteTime": {
     "end_time": "2025-06-19T20:32:33.734645Z",
     "start_time": "2025-06-19T20:32:33.730685Z"
    }
   },
   "cell_type": "code",
   "source": [
    "#tokens - determines length of output\n",
    "#temperature - controls the randomness 1 = more random\n",
    "# The higher the number the tokens and the closer to 0 the temperature the better the response."
   ],
   "id": "1d7f43c877a284ca",
   "outputs": [],
   "execution_count": 115
  },
  {
   "metadata": {
    "ExecuteTime": {
     "end_time": "2025-06-19T20:32:33.759753Z",
     "start_time": "2025-06-19T20:32:33.753412Z"
    }
   },
   "cell_type": "code",
   "source": [
    "# Transformer Roles:\n",
    "# 1.System message: Instructions to the model on how it should respond and behave.\n",
    "# 2.User message: User input\n",
    "# 3.Assistant message: Output to the user input - serve as example on how the model should respond."
   ],
   "id": "13fdfa0258a07f7d",
   "outputs": [],
   "execution_count": 116
  },
  {
   "metadata": {
    "ExecuteTime": {
     "end_time": "2025-06-19T20:32:33.789221Z",
     "start_time": "2025-06-19T20:32:33.780528Z"
    }
   },
   "cell_type": "code",
   "source": [
    "def text_summarizer(prompt):\n",
    "    response = client.chat.completions.create(\n",
    "        model=\"gpt-4o-mini\",\n",
    "        store=True,\n",
    "        messages=[{\n",
    "          \"role\": \"system\",\n",
    "          \"content\": \"You will be provided with a block of text, and your task is to extract a list of keywords from it.\"\n",
    "        },\n",
    "        {\n",
    "          \"role\": \"user\",\n",
    "          \"content\": \"A flying saucer seen by a guest house, a 7ft alien-like figure coming out of a hedge and a \\\"cigar-shaped\\\" UFO near a school yard.\\n\\nThese are just some of the 450 reported extraterrestrial encounters from one of the UK's largest mass sightings in a remote Welsh village.\\n\\nThe village of Broad Haven has since been described as the \\\"Bermuda Triangle\\\" of mysterious craft sightings and sightings of strange beings.\\n\\nResidents who reported these encounters across a single year in the late seventies have now told their story to the new Netflix documentary series 'Encounters', made by Steven Spielberg's production company.\\n\\nIt all happened back in 1977, when the Cold War was at its height and Star Wars and Close Encounters of the Third Kind - Spielberg's first science fiction blockbuster - dominated the box office.\"\n",
    "        },\n",
    "        {\n",
    "          \"role\": \"assistant\",\n",
    "          \"content\": \"flying saucer, guest house, 7ft alien-like figure, hedge, cigar-shaped UFO, school yard, extraterrestrial encounters, UK, mass sightings, remote Welsh village, Broad Haven, Bermuda Triangle, mysterious craft sightings, strange beings, residents, single year, late seventies, Netflix documentary series, Steven Spielberg, production company, 1977, Cold War, Star Wars, Close Encounters of the Third Kind, science fiction blockbuster, box office.\"\n",
    "        },\n",
    "        {\n",
    "          \"role\": \"user\",\n",
    "          \"content\": \"Each April, in the village of Maeliya in northwest Sri Lanka, Pinchal Weldurelage Siriwardene gathers his community under the shade of a large banyan tree. The tree overlooks a human-made body of water called a wewa – meaning reservoir or \\\"tank\\\" in Sinhala. The wewa stretches out besides the village's rice paddies for 175-acres (708,200 sq m) and is filled with the rainwater of preceding months.    \\n\\nSiriwardene, the 76-year-old secretary of the village's agrarian committee, has a tightly-guarded ritual to perform. By boiling coconut milk on an open hearth beside the tank, he will seek blessings for a prosperous harvest from the deities residing in the tree. \\\"It's only after that we open the sluice gate to water the rice fields,\\\" he told me when I visited on a scorching mid-April afternoon.\\n\\nBy releasing water into irrigation canals below, the tank supports the rice crop during the dry months before the rains arrive. For nearly two millennia, lake-like water bodies such as this have helped generations of farmers cultivate their fields. An old Sinhala phrase, \\\"wewai dagabai gamai pansalai\\\", even reflects the technology's centrality to village life; meaning \\\"tank, pagoda, village and temple\\\".\"\n",
    "        },\n",
    "        {\n",
    "          \"role\": \"assistant\",\n",
    "          \"content\": \"April, Maeliya, northwest Sri Lanka, Pinchal Weldurelage Siriwardene, banyan tree, wewa, reservoir, tank, Sinhala, rice paddies, 175-acres, 708,200 sq m, rainwater, agrarian committee, coconut milk, open hearth, blessings, prosperous harvest, deities, sluice gate, rice fields, irrigation canals, dry months, rains, lake-like water bodies, farmers, cultivate, Sinhala phrase, technology, village life, pagoda, temple.\"\n",
    "        },\n",
    "        {\n",
    "          \"role\": \"user\",\n",
    "          \"content\": prompt\n",
    "        }\n",
    "        ],\n",
    "        temperature=0.5,\n",
    "        max_tokens=256\n",
    "    )\n",
    "    return response.choices[0].message.content.strip()"
   ],
   "id": "a1ff9f3d29ca13d6",
   "outputs": [],
   "execution_count": 117
  },
  {
   "metadata": {
    "ExecuteTime": {
     "end_time": "2025-06-19T20:32:33.814138Z",
     "start_time": "2025-06-19T20:32:33.807525Z"
    }
   },
   "cell_type": "code",
   "source": [
    "prompt = \"Master Reef Guide Kirsty Whitman didn't need to tell me twice. Peering down through my snorkel mask in the direction of her pointed finger, I spotted a huge male manta ray trailing a female in perfect sync – an effort to impress a potential mate, exactly as Whitman had described during her animated presentation the previous evening. Having some knowledge of what was unfolding before my eyes on our snorkelling safari made the encounter even more magical as I kicked against the current to admire this intimate undersea ballet for a few precious seconds more.\"\n",
    "print(prompt)"
   ],
   "id": "789bd6a57b94cad1",
   "outputs": [
    {
     "name": "stdout",
     "output_type": "stream",
     "text": [
      "Master Reef Guide Kirsty Whitman didn't need to tell me twice. Peering down through my snorkel mask in the direction of her pointed finger, I spotted a huge male manta ray trailing a female in perfect sync – an effort to impress a potential mate, exactly as Whitman had described during her animated presentation the previous evening. Having some knowledge of what was unfolding before my eyes on our snorkelling safari made the encounter even more magical as I kicked against the current to admire this intimate undersea ballet for a few precious seconds more.\n"
     ]
    }
   ],
   "execution_count": 118
  },
  {
   "metadata": {
    "ExecuteTime": {
     "end_time": "2025-06-19T20:32:34.869962Z",
     "start_time": "2025-06-19T20:32:33.836595Z"
    }
   },
   "cell_type": "code",
   "source": "text_summarizer(prompt)",
   "id": "69284af03ac6f0a9",
   "outputs": [
    {
     "data": {
      "text/plain": [
       "'Master Reef Guide, Kirsty Whitman, snorkel mask, manta ray, female, potential mate, animated presentation, snorkelling safari, encounter, magical, current, intimate undersea ballet, precious seconds.'"
      ]
     },
     "execution_count": 119,
     "metadata": {},
     "output_type": "execute_result"
    }
   ],
   "execution_count": 119
  },
  {
   "metadata": {
    "ExecuteTime": {
     "end_time": "2025-06-19T20:32:34.894985Z",
     "start_time": "2025-06-19T20:32:34.888986Z"
    }
   },
   "cell_type": "code",
   "source": "# Poetic Chat Bot",
   "id": "a440976bcc91c51",
   "outputs": [],
   "execution_count": 120
  },
  {
   "metadata": {
    "ExecuteTime": {
     "end_time": "2025-06-19T20:32:34.919011Z",
     "start_time": "2025-06-19T20:32:34.911465Z"
    }
   },
   "cell_type": "code",
   "source": [
    "def poetic_chatbot(prompt):\n",
    "    response = client.chat.completions.create(\n",
    "        model=\"gpt-4o-mini\",\n",
    "        store=True,\n",
    "        messages=[\n",
    "            {\n",
    "                \"role\": \"system\",\n",
    "                \"content\": \"You are a poetic chatbot.\"\n",
    "            },\n",
    "            {\n",
    "                \"role\": \"user\",\n",
    "                \"content\": \"When was Google founded?\"\n",
    "            },\n",
    "            {\n",
    "                \"role\": \"assistant\",\n",
    "                \"content\": \"In the late '90s, a spark did ignite, Google emerged, a radiant light. By Larry and Sergey, in '98, it was born, a search engine new, on the web it was sworn.\"\n",
    "            },\n",
    "            {\n",
    "                \"role\": \"user\",\n",
    "                \"content\": \"Which country has the youngest president?\"\n",
    "            },\n",
    "            {\n",
    "                \"role\": \"assistant\",\n",
    "                \"content\": \"Ah, the pursuit of youth in politics, a theme we explore. In Austria, Sebastian Kurz did implore, at the age of 31, his journey did begin, leading with vigor, in a world filled with din.\"\n",
    "            },\n",
    "            {\n",
    "                \"role\": \"user\",\n",
    "                \"content\": prompt\n",
    "            }\n",
    "        ],\n",
    "        temperature=1,\n",
    "        max_tokens=256\n",
    "    )\n",
    "    return response.choices[0].message.content.strip()"
   ],
   "id": "526c6743b8984be",
   "outputs": [],
   "execution_count": 121
  },
  {
   "metadata": {
    "ExecuteTime": {
     "end_time": "2025-06-19T20:32:40.912458Z",
     "start_time": "2025-06-19T20:32:34.936736Z"
    }
   },
   "cell_type": "code",
   "source": [
    "prompt = \"When was cheese first made?\"\n",
    "poetic_chatbot(prompt)"
   ],
   "id": "af9fe882e1460a39",
   "outputs": [
    {
     "data": {
      "text/plain": [
       "'In the mists of time, where stories dwell, Cheese was crafted, a tale to tell. Around 8000 B.C., in lands far and wide, Ancient herders, with milk as their guide. By chance or design, as curds took their form, A tasty delight was born, to transform. So through the ages, with cultures embraced, Cheese has become a pleasure to taste.'"
      ]
     },
     "execution_count": 122,
     "metadata": {},
     "output_type": "execute_result"
    }
   ],
   "execution_count": 122
  },
  {
   "metadata": {
    "ExecuteTime": {
     "end_time": "2025-06-19T20:32:42.136397Z",
     "start_time": "2025-06-19T20:32:40.936330Z"
    }
   },
   "cell_type": "code",
   "source": [
    "prompt2 = \"What is the next course to be uploaded to the 365DataScience?\"\n",
    "poetic_chatbot(prompt2)"
   ],
   "id": "3503c2e88dca6be4",
   "outputs": [
    {
     "data": {
      "text/plain": [
       "'Alas, I am not privy to the secrets of time,  \\nThe next course at 365DataScience remains a rhyme.  \\nIn the realm of data, they offer a feast,  \\nTo nourish your knowledge, creativity released.  \\nFor updates and whispers, their site you should seek,  \\nWhere the future of learning is bright, not bleak.'"
      ]
     },
     "execution_count": 123,
     "metadata": {},
     "output_type": "execute_result"
    }
   ],
   "execution_count": 123
  },
  {
   "metadata": {
    "ExecuteTime": {
     "end_time": "2025-06-19T20:32:42.159925Z",
     "start_time": "2025-06-19T20:32:42.153919Z"
    }
   },
   "cell_type": "code",
   "source": [
    "# LangChain:\n",
    "# Open source framework that allows developers to combine LLMs with external sources.\n",
    "# Allows developers to build end-to-end applications powered by LLMs"
   ],
   "id": "823d3d23f09ba496",
   "outputs": [],
   "execution_count": 124
  },
  {
   "metadata": {
    "ExecuteTime": {
     "end_time": "2025-06-19T20:37:48.471524Z",
     "start_time": "2025-06-19T20:37:48.462381Z"
    }
   },
   "cell_type": "code",
   "source": [
    "from langchain.document_loaders import WebBaseLoader\n",
    "from langchain.text_splitter import RecursiveCharacterTextSplitter\n",
    "from langchain_openai.embeddings import OpenAIEmbeddings\n",
    "from langchain.vectorstores import FAISS\n",
    "from langchain.memory import ConversationBufferMemory\n",
    "from langchain.llms import OpenAI\n",
    "from langchain.chains import ConversationalRetrievalChain\n",
    "from langchain.chat_models import ChatOpenAI"
   ],
   "id": "3f395801d2e533c6",
   "outputs": [],
   "execution_count": 139
  },
  {
   "metadata": {
    "ExecuteTime": {
     "end_time": "2025-06-19T20:37:53.028295Z",
     "start_time": "2025-06-19T20:37:53.021829Z"
    }
   },
   "cell_type": "code",
   "source": [
    "url = \"https://365datascience.com/upcoming-courses\"\n",
    "loader = WebBaseLoader(url)"
   ],
   "id": "d91c4296f773a35a",
   "outputs": [],
   "execution_count": 140
  },
  {
   "metadata": {
    "ExecuteTime": {
     "end_time": "2025-06-19T20:37:54.599776Z",
     "start_time": "2025-06-19T20:37:53.466415Z"
    }
   },
   "cell_type": "code",
   "source": "raw_documents = loader.load()",
   "id": "68a997c8ffe70df7",
   "outputs": [],
   "execution_count": 141
  },
  {
   "metadata": {
    "ExecuteTime": {
     "end_time": "2025-06-19T20:37:54.628236Z",
     "start_time": "2025-06-19T20:37:54.622691Z"
    }
   },
   "cell_type": "code",
   "source": [
    "# Splitting data to make sure we only pass the most relevant pieces of text to the language model\n",
    "text_splitter = RecursiveCharacterTextSplitter()\n",
    "documents = text_splitter.split_documents(raw_documents)"
   ],
   "id": "e92b4797bc2df15",
   "outputs": [],
   "execution_count": 142
  },
  {
   "metadata": {
    "ExecuteTime": {
     "end_time": "2025-06-19T20:37:57.493632Z",
     "start_time": "2025-06-19T20:37:56.096118Z"
    }
   },
   "cell_type": "code",
   "source": "embeddings = OpenAIEmbeddings(api_key = api_key)",
   "id": "555ef107b4b98e1",
   "outputs": [],
   "execution_count": 143
  },
  {
   "metadata": {
    "ExecuteTime": {
     "end_time": "2025-06-19T20:37:57.947149Z",
     "start_time": "2025-06-19T20:37:57.510519Z"
    }
   },
   "cell_type": "code",
   "source": "vectorstore = FAISS.from_documents(documents, embeddings)",
   "id": "860b2d8f09694630",
   "outputs": [],
   "execution_count": 144
  },
  {
   "metadata": {
    "ExecuteTime": {
     "end_time": "2025-06-19T20:37:57.973425Z",
     "start_time": "2025-06-19T20:37:57.969443Z"
    }
   },
   "cell_type": "code",
   "source": "memory = ConversationBufferMemory(memory_key=\"chat_history\", return_messages=True)",
   "id": "2c08d601d2ac6ed0",
   "outputs": [],
   "execution_count": 145
  },
  {
   "metadata": {
    "ExecuteTime": {
     "end_time": "2025-06-19T20:37:59.311311Z",
     "start_time": "2025-06-19T20:37:58.001422Z"
    }
   },
   "cell_type": "code",
   "source": "qa = ConversationalRetrievalChain.from_llm(ChatOpenAI(api_key = api_key, model=\"gpt-4o-mini\", temperature = 0), vectorstore.as_retriever(), memory=memory)",
   "id": "ba06873a8cd0e25d",
   "outputs": [],
   "execution_count": 146
  },
  {
   "metadata": {
    "ExecuteTime": {
     "end_time": "2025-06-19T20:41:04.582559Z",
     "start_time": "2025-06-19T20:41:04.577907Z"
    }
   },
   "cell_type": "code",
   "source": "query = \"What is the next course to be uploaded on the 365DataScience platform?\"",
   "id": "bcccfd43eb68f54d",
   "outputs": [],
   "execution_count": 152
  },
  {
   "metadata": {
    "ExecuteTime": {
     "end_time": "2025-06-19T20:41:06.567894Z",
     "start_time": "2025-06-19T20:41:04.852829Z"
    }
   },
   "cell_type": "code",
   "source": [
    "result = qa({\"question\": query})\n",
    "result[\"answer\"]"
   ],
   "id": "66bc627cdc33804",
   "outputs": [
    {
     "data": {
      "text/plain": [
       "'The next course to be uploaded on the 365 Data Science platform is \"Deep Learning with PyTorch,\" which will launch in July 2025.'"
      ]
     },
     "execution_count": 153,
     "metadata": {},
     "output_type": "execute_result"
    }
   ],
   "execution_count": 153
  }
 ],
 "metadata": {
  "kernelspec": {
   "display_name": "nlp_course_env",
   "language": "python",
   "name": "nlp_course_env"
  },
  "language_info": {
   "codemirror_mode": {
    "name": "ipython",
    "version": 2
   },
   "file_extension": ".py",
   "mimetype": "text/x-python",
   "name": "python",
   "nbconvert_exporter": "python",
   "pygments_lexer": "ipython2",
   "version": "2.7.6"
  }
 },
 "nbformat": 4,
 "nbformat_minor": 5
}
