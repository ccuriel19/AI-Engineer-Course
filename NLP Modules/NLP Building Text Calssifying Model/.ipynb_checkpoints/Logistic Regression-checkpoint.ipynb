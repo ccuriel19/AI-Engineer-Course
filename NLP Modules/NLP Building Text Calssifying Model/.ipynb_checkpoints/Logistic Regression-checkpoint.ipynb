{
 "cells": [
  {
   "cell_type": "code",
   "execution_count": 1,
   "id": "458165bf-b1be-4b66-8776-974cd4ae14c9",
   "metadata": {},
   "outputs": [],
   "source": [
    "import pandas as pd\n",
    "from sklearn.feature_extraction.text import CountVectorizer\n",
    "from sklearn.model_selection import train_test_split\n",
    "from sklearn.linear_model import LogisticRegression\n",
    "from sklearn.metrics import accuracy_score, classification_report"
   ]
  },
  {
   "cell_type": "code",
   "execution_count": 3,
   "id": "20517a9d-be6d-43a8-99be-9e098dbf59e7",
   "metadata": {},
   "outputs": [],
   "source": [
    "data = pd.DataFrame(\n",
    "    [(\"i love spending time with my friends and family\", \"positive\"),\n",
    "     (\"that was the best meal i've ever had in my life\", \"positive\"),\n",
    "     (\"i feel so grateful for everything i have in my life\", \"positive\"),\n",
    "     (\"i received a promotion at work and i couldn't be happier\", \"positive\"),\n",
    "     (\"watching a beautiful sunset always fills me with joy\", \"positive\"),\n",
    "     (\"my partner surprised me with a thoughtful gift and it made my day\", \"positive\"),\n",
    "     (\"i am so proud of my daughter for graduating with honors\", \"positive\"),\n",
    "     (\"listening to my favorite music always puts me in a good mood\", \"positive\"),\n",
    "     (\"i love the feeling of accomplishment after completing a challenging task\", \"positive\"),\n",
    "     (\"i am excited to go on vacatin nect week\", \"positive\"),\n",
    "     (\"i feel so overwhelmed with work and responsibilities\", \"negative\"),\n",
    "     (\"the traffic during my commute is always so frustrating\", \"negative\"),\n",
    "     (\"i received a parking ticket and it ruined my day\", \"negative\"),\n",
    "     (\"i got into an argument with my partner and we're not speaking\", \"negative\"),\n",
    "     (\"i have a headache and i feel terrible\", \"negative\"),\n",
    "     (\"i received a rejection letter for the job i really wanted\", \"negative\"),\n",
    "     (\"my car broke down and it's going to be expensive to fix\", \"negative\"),\n",
    "     (\"i'm feeling sad because i miss my friends who live far away\", \"negative\"),\n",
    "     (\"i'm frustrated because i can't seem to make progress on my project\", \"negative\"),\n",
    "     (\"i'm dissapointed because my team lost the game\", \"negative\") \n",
    "    ], columns=[\"text\", \"sentiment\"])"
   ]
  },
  {
   "cell_type": "code",
   "execution_count": null,
   "id": "d42d4673-8eb0-4878-b2a8-2273d595c4e0",
   "metadata": {},
   "outputs": [],
   "source": []
  }
 ],
 "metadata": {
  "kernelspec": {
   "display_name": "nlp_course_env",
   "language": "python",
   "name": "nlp_course_env"
  },
  "language_info": {
   "codemirror_mode": {
    "name": "ipython",
    "version": 3
   },
   "file_extension": ".py",
   "mimetype": "text/x-python",
   "name": "python",
   "nbconvert_exporter": "python",
   "pygments_lexer": "ipython3",
   "version": "3.12.7"
  }
 },
 "nbformat": 4,
 "nbformat_minor": 5
}
